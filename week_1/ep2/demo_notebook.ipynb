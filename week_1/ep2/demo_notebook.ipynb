{
 "cells": [
  {
   "cell_type": "markdown",
   "metadata": {},
   "source": [
    "This is a what a notebook looks like in VSCode. To run it, you'll need to activate a virtual environment and install `jupyterlab`.\n",
    "\n",
    "In your terminal, make sure you're in the week_1/ep2 folder, and run:\n",
    "\n",
    "```\n",
    "source venv/bin/activate\n",
    "\n",
    "```\n",
    "\n",
    "Install everything in the `requirements.txt` file, which includes `jupyterlab`: \n",
    "```\n",
    "pip install -r requirements.txt\n",
    "```\n",
    "\n",
    "When you try to run the code cell below, you'll be prompted to select a kernel. Click 'Python Environments', and select your virtual environment."
   ]
  },
  {
   "cell_type": "code",
   "execution_count": null,
   "metadata": {},
   "outputs": [],
   "source": [
    "print(\"The notebook is working A-Ok\")"
   ]
  }
 ],
 "metadata": {
  "kernelspec": {
   "display_name": "venv",
   "language": "python",
   "name": "python3"
  },
  "language_info": {
   "codemirror_mode": {
    "name": "ipython",
    "version": 3
   },
   "file_extension": ".py",
   "mimetype": "text/x-python",
   "name": "python",
   "nbconvert_exporter": "python",
   "pygments_lexer": "ipython3",
   "version": "3.7.17"
  },
  "orig_nbformat": 4
 },
 "nbformat": 4,
 "nbformat_minor": 2
}
