{
 "cells": [
  {
   "cell_type": "markdown",
   "metadata": {},
   "source": [
    "# Functions\n",
    "\n",
    "The basic structure of a Python function looks like this:\n",
    "\n",
    "```python\n",
    "def name_of_function():\n",
    "    stuff_to_do\n",
    "```\n",
    "\n",
    "It has to have all those parts: the word 'def' (for 'definition'), a name followed by parenthesis, then a colon. Under the defintion is the indented body of the function.\n",
    "A function can also take input values, called 'parameters', and/or the word 'return' that returns a value back, like this:\n",
    "\n",
    "```python\n",
    "def name_of_function(some_parameter):\n",
    "    stuff_to_do\n",
    "    return a_return_value\n",
    "```\n",
    "When you want to run (or 'call') the function in your code, use `name_of_function()`.\n",
    "\n",
    "An example of a function you already know that takes input is `print()`! This simple function takes the input supplied in the `()` and prints it to the screen. The `print()` function is an example of a Python [standard library](https://docs.python.org/3/library/functions.html) function - one that is included with Python. Since `print()` is in the standard library, we do not have to install any packages or explicitly define it in order to use it anywhere in our code."
   ]
  },
  {
   "cell_type": "code",
   "execution_count": null,
   "metadata": {},
   "outputs": [],
   "source": [
    "print(print(\"Hello friends!\"))"
   ]
  },
  {
   "cell_type": "markdown",
   "metadata": {},
   "source": [
    "Notice, if you run the cell, you'll see that it prints \"Hello friends!\", and then the word 'None'. 'None' means this function doesn't have a return value.\n",
    "'None' shows up because you can show the return value of a function by wrapping it in a `print()` statement. \n",
    "\n",
    "Understanding return values is important, so let's spend some time with them. When you call a function using `name_of_function()`, the Python interpreter runs through the body of the function. If there are print statements in the body, they'll be printed to your console. If there's a return value and you're running Python code from a `.py` file in your terminal, it will only appear in the console if you wrap the function call in a `print()`. However, Jupyter notebooks will show a return value when you run a code cell.\n",
    "\n",
    "Run the examples below to see this in action."
   ]
  },
  {
   "cell_type": "code",
   "execution_count": null,
   "metadata": {},
   "outputs": [],
   "source": [
    "# a function with a print() but no return\n",
    "def print_only():\n",
    "    print(\"No return value here!\")\n",
    "\n",
    "print_only()"
   ]
  },
  {
   "cell_type": "code",
   "execution_count": null,
   "metadata": {},
   "outputs": [],
   "source": [
    "# a function with a return, but no print()\n",
    "def return_only():\n",
    "    return(\"This string's a return value\")\n",
    "\n",
    "return_only()"
   ]
  },
  {
   "cell_type": "code",
   "execution_count": null,
   "metadata": {},
   "outputs": [],
   "source": [
    "# a function with both a return and a print()\n",
    "def return_and_print():\n",
    "    print(\"A print statement in the function body\")\n",
    "    return(\"This string's a return value\")\n",
    "\n",
    "return_and_print()"
   ]
  },
  {
   "cell_type": "markdown",
   "metadata": {},
   "source": [
    "Let's do a few more experiments, for illustration.\n",
    "Question: what happens if you define a function but don't call it?"
   ]
  },
  {
   "cell_type": "code",
   "execution_count": null,
   "metadata": {},
   "outputs": [],
   "source": [
    "def new_function():\n",
    "    x = 3\n",
    "    y = 2\n",
    "    return(x+y)\n"
   ]
  },
  {
   "cell_type": "markdown",
   "metadata": {},
   "source": [
    "Answer: not much!"
   ]
  },
  {
   "cell_type": "code",
   "execution_count": null,
   "metadata": {},
   "outputs": [],
   "source": [
    "# Exercise:\n",
    "# Call new_function() to see its return value"
   ]
  },
  {
   "cell_type": "markdown",
   "metadata": {},
   "source": [
    "Question: what happens if you call a function without the parenthesis? Run the cell below to find out."
   ]
  },
  {
   "cell_type": "code",
   "execution_count": null,
   "metadata": {},
   "outputs": [],
   "source": [
    "new_function"
   ]
  },
  {
   "cell_type": "markdown",
   "metadata": {},
   "source": [
    "Answer: as you can see, instead of getting a return value from the function, Python just tells you that `new_function` is the name of a function. `__main__` is the name of the environment where the top-level code is run; in this case, the function is defined in the file we're currently in, and not imported from another file (more on this later)."
   ]
  },
  {
   "cell_type": "code",
   "execution_count": null,
   "metadata": {},
   "outputs": [],
   "source": [
    "# Exercise:\n",
    "# define a function with a print() but no return\n",
    "\n",
    "# ...and call it:"
   ]
  },
  {
   "cell_type": "code",
   "execution_count": null,
   "metadata": {},
   "outputs": [],
   "source": [
    "# Exercise:\n",
    "# define a function with a return but no print()\n",
    "\n",
    "# ...and call it:"
   ]
  },
  {
   "cell_type": "code",
   "execution_count": null,
   "metadata": {},
   "outputs": [],
   "source": [
    "# Exercise:\n",
    "# define a function with both a return and a print()\n",
    "\n",
    "# ...and call it:"
   ]
  },
  {
   "cell_type": "code",
   "execution_count": null,
   "metadata": {},
   "outputs": [],
   "source": [
    "# Exercise:\n",
    "# try calling one of the functions you just wrote, but leave off the parenthesis"
   ]
  },
  {
   "cell_type": "markdown",
   "metadata": {},
   "source": [
    "Now let's look at using input **arguments** in our functions. We can do that by adding comma-separated variables in the function definition:"
   ]
  },
  {
   "cell_type": "code",
   "execution_count": null,
   "metadata": {},
   "outputs": [],
   "source": [
    "def input_function(first_input, second_input, third_input):\n",
    "    print(f\"My first input was {first_input}, my second input was {second_input} and I refuse to tell you that {third_input} was my third input\")\n",
    "\n",
    "input_function(1, \"cake\", [\"secret\", \"list\"])"
   ]
  },
  {
   "cell_type": "markdown",
   "metadata": {},
   "source": [
    "The real beauty of functions is that they can take input values, do something with them, and give you a new value back. When you define the function, what's inside the parenthesis are called 'parameters'; they're like variables that haven't been assigned values yet. When you call the function, the values that you pass into the parenthesis are called 'arguments'. You can pass different arguments every time you call a function.\n",
    "\n",
    "It's important to note that you have to pass the same number of arguments as parameters, and in the same order. You can think of them being matched up: the first parameter is a variable that's a assigned to the first argument, the second parameter is a variable that's a assigned to the second argument, etc. If you pass in too many arguments, or not enough, you'll get an error."
   ]
  },
  {
   "cell_type": "code",
   "execution_count": null,
   "metadata": {},
   "outputs": [],
   "source": [
    "def add_numbers(num_1, num_2):\n",
    "    return num_1 + num_2\n",
    "\n",
    "summed = add_numbers(3, 4)\n",
    "print(summed)"
   ]
  },
  {
   "cell_type": "code",
   "execution_count": null,
   "metadata": {},
   "outputs": [],
   "source": [
    "# Exercise:\n",
    "# call the add_numbers() function from above, but pass in one number as an argument instead of two"
   ]
  },
  {
   "cell_type": "code",
   "execution_count": null,
   "metadata": {},
   "outputs": [],
   "source": [
    "# Exercise:\n",
    "# re-write the add_numbers() function so it adds three numbers together, then call it with three arguments"
   ]
  },
  {
   "cell_type": "markdown",
   "metadata": {},
   "source": [
    "We note that Python does not enforce type on the inputs to a function. This means we can use the addition operator on any data types that have a supported `+` operator."
   ]
  },
  {
   "cell_type": "code",
   "execution_count": null,
   "metadata": {},
   "outputs": [],
   "source": [
    "print(add_numbers(\"A\", \"B\"))\n",
    "print(add_numbers([1, 3], [5, 6]))\n",
    "\n",
    "# this statement should throw an exception since you cannot add integers to strings\n",
    "print(add_numbers(\"A\", 1))"
   ]
  },
  {
   "cell_type": "markdown",
   "metadata": {},
   "source": [
    "If we want to annotate an expected type in a function, Python3 allows us to do so with a colon in the parameter declaration. This still will not strictly enforce type but add clarity and allows other tools to know what inputs are expected. Similarly, if we want to annotate what the output type should be, we can follow the `( )` with `-> type`. Let's annotate our adding function to say it takes two `int` at input and returns an `int`:"
   ]
  },
  {
   "cell_type": "code",
   "execution_count": null,
   "metadata": {},
   "outputs": [],
   "source": [
    "def add_numbers(num_1:int, num_2:int) -> int:\n",
    "    return num_1 + num_2\n",
    "\n",
    "print(add_numbers(4, 5))\n",
    "print(add_numbers(\"Hello\", \" friends\"))"
   ]
  },
  {
   "cell_type": "markdown",
   "metadata": {},
   "source": [
    "This is handy to tell the users of your function what are the expected data types for your arguments and return values. "
   ]
  }
 ],
 "metadata": {
  "kernelspec": {
   "display_name": "Python 3.7.13 ('ch1venv': venv)",
   "language": "python",
   "name": "python3"
  },
  "language_info": {
   "codemirror_mode": {
    "name": "ipython",
    "version": 3
   },
   "file_extension": ".py",
   "mimetype": "text/x-python",
   "name": "python",
   "nbconvert_exporter": "python",
   "pygments_lexer": "ipython3",
   "version": "3.7.13"
  },
  "orig_nbformat": 4,
  "vscode": {
   "interpreter": {
    "hash": "fa8c7aa075c19ce72a1c451928df8560ecf5abbe3bdddc8c62f61df80381fa28"
   }
  }
 },
 "nbformat": 4,
 "nbformat_minor": 2
}
