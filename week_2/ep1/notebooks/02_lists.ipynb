{
 "cells": [
  {
   "cell_type": "markdown",
   "metadata": {},
   "source": [
    "## Lists\n",
    "\n",
    "Let's take a look at one of the most important data types in Python, the `list`. Python `list`s are one of the four **collection** data types in Python: list, tuple, set, and dictionary. They are an ordered and mutable (changeable) collection of items that stores other values. This collection of items also allows for different data types to be stored in one collection. For those familiar with Javascript, we can see the similarities between Javascript arrays and Python lists (but arrays in Python are an entirely different object).\n",
    "\n",
    "In Python, we usually declare a list using square brackets `[ ]` with list items separated by commas. \n",
    "\n",
    "For example, here's how to create a list of the odd numbers from 1 to 5 named `my_first_list`:"
   ]
  },
  {
   "cell_type": "code",
   "execution_count": null,
   "metadata": {},
   "outputs": [],
   "source": [
    "my_first_list = [1, 3, 5]\n",
    "\n",
    "# We can put any type of item in a list, including another list. And we can mix data types within the same list. Let's see an example:\n",
    "my_second_list = ['Hello', 8, 4.5, my_first_list]\n",
    "print(my_second_list)"
   ]
  },
  {
   "cell_type": "markdown",
   "metadata": {},
   "source": [
    "#### Exercise: \n",
    "Follow the comments in the code cell below."
   ]
  },
  {
   "cell_type": "code",
   "execution_count": null,
   "metadata": {},
   "outputs": [],
   "source": [
    "\n",
    "# Make a list of the first 4 letters of the alphabet.\n",
    "alphabet_list = \n",
    "\n",
    "# How do we access the individual items in a list once we have created it? \n",
    "# There is more than one way, but let's look at the most common way of list indexing. \n",
    "# Python, like many other languages, uses zero-indexing, so you can get the first element by using brackets and the number 0:\n",
    "my_first_list[0]\n",
    "\n",
    "# Let's say we want the last element of our list. For our two simple lists, we could just use the index 2 or 3 respectively:\n",
    "print(my_first_list[2])\n",
    "print(my_second_list[3])\n",
    "\n",
    "# But what if we don't know the length of the list, but still need the last element? \n",
    "# We will often encounter this situation when building lists dynamically, and when many changes are made after the list is created. \n",
    "# In this case, we can use *negative indexing* to retrieve items from the end of a list:\n",
    "my_first_list[-1]\n",
    "my_first_list[-2]"
   ]
  },
  {
   "cell_type": "markdown",
   "metadata": {},
   "source": [
    "\n",
    "As we can see, using index `-1` gives us the last element in the list, and using the index `-2` gives us the second to the last element.\n",
    "\n",
    "#### Exercise: \n",
    "Follow the comments in the code cell below."
   ]
  },
  {
   "cell_type": "code",
   "execution_count": null,
   "metadata": {},
   "outputs": [],
   "source": [
    "\n",
    "# With this longer list:\n",
    "longer_list = [ 1, 2, 4, 8, 16, 'z', 'y', 'x', 'w']\n",
    "\n",
    "# Print the first item of the list\n",
    "print(longer_list[])\n",
    "\n",
    "# Print the last item of the list\n",
    "print(longer_list[])\n",
    "\n",
    "# Print the last number in the list\n",
    "print(longer_list[])\n"
   ]
  },
  {
   "cell_type": "markdown",
   "metadata": {},
   "source": [
    "\n",
    "What if we want to return and remove an item from a list? The list method `pop()` can help us there. `pop()` is a function that takes an optional argument which is the index to return, with the default being to return the last item in the list. Let's return the last item using `pop()`, check our list then return the first item:\n"
   ]
  },
  {
   "cell_type": "code",
   "execution_count": null,
   "metadata": {},
   "outputs": [],
   "source": [
    "\n",
    "my_first_list = [1, 3, 5]\n",
    "last_item = my_first_list.pop()\n",
    "print(last_item)\n",
    "print(my_first_list)\n",
    "first_item = my_first_list.pop(0)\n",
    "print(first_item)\n",
    "print(my_first_list)"
   ]
  },
  {
   "cell_type": "markdown",
   "metadata": {},
   "source": [
    " As we can see, `pop()` gives us the last item in the list, then removes that item. If we do not specify an index, `pop()` returns the last item, or we can specify an index to return a particular item. In the code above, `pop(0)` returns and removes the first element in the list. If we want to remove an item without returning the value we can use `remove()`."
   ]
  },
  {
   "cell_type": "code",
   "execution_count": null,
   "metadata": {},
   "outputs": [],
   "source": [
    "# with this list:\n",
    "removal_list = [ 1, 2, 4, 8, 16]\n",
    "\n",
    "# Remove the number 2 from the list\n",
    "removal_list.remove()\n",
    "print(removal_list)\n",
    "\n",
    "# Remove the last item from the list\n",
    "removal_list.remove()\n",
    "print(removal_list)\n"
   ]
  },
  {
   "cell_type": "markdown",
   "metadata": {},
   "source": [
    "\n",
    "To add elements to a list, we can use the `append()` function. \n",
    "That function takes a single argument (the value to be appended), and places it in the last spot in the list. That change happens in-place, meaning that you do not have to use the `=` operator to place the new value into the list. Let's look at adding some values to `my_first_list`:\n"
   ]
  },
  {
   "cell_type": "code",
   "execution_count": null,
   "metadata": {},
   "outputs": [],
   "source": [
    "\n",
    "my_first_list = [3]\n",
    "my_first_list.append([5, 7, 9])\n",
    "print(my_first_list)\n",
    "my_first_list.pop()\n",
    "my_first_list.append(5)\n",
    "my_first_list.append(7)\n",
    "my_first_list.append(9)\n",
    "print(my_first_list)\n"
   ]
  },
  {
   "cell_type": "markdown",
   "metadata": {},
   "source": [
    "You may have noticed that if we try to append a list of numbers to an existing list, \n",
    "the list being appended remains as a three-item list, and goes in the last position. \n",
    "Another way to say this is that the whole list (`[5,7,9]`) becomes the second item in my_first_list, rather than the individual items in `[5,7,9]` each becoming a new item in my_first_list (in which case that list would contain four items). \n",
    "What if we simply want to extend our existing list by the list `[5, 7, 9]`? Luckily, lists have a built in `extend()` method:"
   ]
  },
  {
   "cell_type": "code",
   "execution_count": null,
   "metadata": {},
   "outputs": [],
   "source": [
    "\n",
    "my_first_list = [3]\n",
    "my_first_list.extend([5, 7, 9])\n",
    "my_first_list\n",
    "\n",
    "# With this empty list:\n",
    "lonely_list = []\n",
    "\n",
    "# Append the first three prime numbers to our list\n",
    "print(lonely_list)\n",
    "\n",
    "# Append this small list to our list, then print:\n",
    "small_list = ['a', 'b']\n",
    "\n",
    "print(lonely_list)\n",
    "\n",
    "# Extend our list by the same small list, then print:\n",
    "print(lonely_list)\n",
    "\n"
   ]
  },
  {
   "cell_type": "code",
   "execution_count": null,
   "metadata": {},
   "outputs": [],
   "source": [
    "\n",
    "#How do we check to see if a list contains a particular item? \n",
    "# Using the `in` membership operator will do that for us:\n",
    "my_first_list = [3, 5, 7, 9]\n",
    "print(5 in my_first_list)\n",
    "print(0 in my_first_list)\n",
    "\n",
    "# With this list:\n",
    "longer_list = [ 1, 2, 4, 8, 16, 'z', 'y', 'x', 'w']\n",
    "\n",
    "# Verify that, 2, 4, and 16 are in the list\n",
    "print(___ in longer_list)\n",
    "\n",
    "# Verify that 'y' is in the list\n",
    "print()"
   ]
  },
  {
   "cell_type": "code",
   "execution_count": null,
   "metadata": {},
   "outputs": [],
   "source": [
    "\n",
    "# What if we want to put a list in order? \n",
    "# Luckily, lists have an in-place sorting method that uses the > comparison operator. \n",
    "# Let's use it to sort a list of numbers!\n",
    "unruly_list = [52, 32, 520, -40, 1]\n",
    "unruly_list.sort()\n",
    "print(unruly_list)\n"
   ]
  },
  {
   "cell_type": "markdown",
   "metadata": {},
   "source": [
    "\n",
    "Be aware that `sort()` cannot be used to sort lists of mixed types, since they cannot be compared with the `>` operator.\n",
    "\n",
    "<br>\n",
    "\n",
    "### List Slicing\n",
    "\n",
    "*Slicing* refers to accessing a range of elements in a list. It's something that you will do frequently as a data engineer, and that we will see in action a number of times later in the course. \n",
    "\n",
    "The basic syntax for slicing is `List[Initial:End:Jump]`. Given a list object, that expression will return the portion of the list from index `Initial` to **but not including** index `End`, at a step size of `Jump`. Note that `Jump` is optional - if you omit it, and just use `List[Initial:End]`, the interpreter will use a default step size of 1 and return the portion of the list between the `Initial` and `End` indexes.\n",
    "\n",
    "Here are a few basic examples:\n"
   ]
  },
  {
   "cell_type": "code",
   "execution_count": null,
   "metadata": {},
   "outputs": [],
   "source": [
    "# initialize a list\n",
    "my_list = [10,20,30,40,50,60,70,80,90]\n",
    "\n",
    "# example: display a portion of the list\n",
    "print(my_list[0:2])     # slice from 0 to 2. Note that it slices BEFORE the end index \n",
    "print(my_list[3:6])     # slice from 3 to 6\n",
    "\n",
    "# example: display the whole list\n",
    "# the Initial and End parameters are optional\n",
    "# the entire list is printed if you omit them\n",
    "print(my_list[:])\n",
    "\n",
    "# these two statements are equivalent, demonstrating that the Jump parameter is also optional\n",
    "print(my_list[:])\n",
    "print(my_list[::])\n",
    "\n",
    "# example: use Jump size to show every other item\n",
    "print(my_list[::2])\n",
    "\n",
    "# use negative indexing to display list items, starting from the end\n",
    "# example: display the whole list in reverse bu Jumping backwards\n",
    "print(my_list[::-1])\n",
    "\n",
    "# example: in this case, we display the last 7 items to the end\n",
    "print(my_list[-7:])\n",
    "\n",
    "# if your slicing expression does not make sense, an empty list will be generated\n",
    "# example: non-computable slicing expression (index out of range)\n",
    "print(my_list[10::2])\n"
   ]
  },
  {
   "cell_type": "markdown",
   "metadata": {},
   "source": [
    "\n",
    "The comments in the above code give you the details on each example. From these, we can see that Python provides an extremely concise and powerful list slicing syntax that makes it easy to get the items you need from a list, in the order you need them.\n",
    "\n",
    "Notice that, in the last example, a nonsensical slicing expression returns an empty list. In this case, the list only contains 9 items, but we are using an index of 10, which is out of range. But when this happens with slicing expressions, the interpreter will NOT produce an error. It is important to be aware of this behavior, because in performing complex data manipulation, you might encounter a situation where subsequent operations which depend on your incorrectly formulated slicing expression do not give you the expected result, but the code runs without error.\n",
    "\n",
    "We will see many more examples of list slicing when we get to Pandas and other topics in later chapters!\n",
    "\n",
    "#### Exercise: \n",
    "Follow the comments in the code cell below.\n"
   ]
  },
  {
   "cell_type": "code",
   "execution_count": null,
   "metadata": {},
   "outputs": [],
   "source": [
    "# With the same list:\n",
    "my_list = [10,20,30,40,50,60,70,80,90]\n",
    "\n",
    "# Print the third through 5th elements of the list\n",
    "print(my_list[:])\n",
    "\n",
    "# Print the last two elements of the list\n",
    "\n",
    "# Print every third item in the list"
   ]
  }
 ],
 "metadata": {
  "kernelspec": {
   "display_name": "Python 3.8.10 64-bit",
   "language": "python",
   "name": "python3"
  },
  "language_info": {
   "name": "python",
   "version": "3.8.10"
  },
  "orig_nbformat": 4,
  "vscode": {
   "interpreter": {
    "hash": "916dbcbb3f70747c44a77c7bcd40155683ae19c65e1c03b4aa3499c5328201f1"
   }
  }
 },
 "nbformat": 4,
 "nbformat_minor": 2
}
