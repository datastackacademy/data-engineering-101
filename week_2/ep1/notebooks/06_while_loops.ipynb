{
 "cells": [
  {
   "cell_type": "markdown",
   "metadata": {},
   "source": [
    "## `while` loop\n",
    "\n",
    "A `while` loop is another way to loop _while_ a condition is True. For example:"
   ]
  },
  {
   "cell_type": "code",
   "execution_count": null,
   "metadata": {},
   "outputs": [],
   "source": [
    "num = 0\n",
    "while num < 10:\n",
    "    print(num)\n",
    "    num = num + 1\n",
    "\n",
    "print(\"we're out!\")"
   ]
  },
  {
   "cell_type": "markdown",
   "metadata": {},
   "source": [
    "In the loop above:\n",
    "1. We initialize `num` to 0\n",
    "1. `while num < 10` checks if the current value of `num` is less than 10. If the _while condition_ (`num < 10`) evaluates to True, the code inside the _while_ block is executed.\n",
    "1. In this case: we print the value of `num` and add one to the value and repeat the loop\n",
    "1. This process continues until the value of `num` becomes 10, which means `num` is no longer less than 10\n",
    "1. Therefore we exit the while loop and print \"we're out\"\n",
    "\n",
    "A good way of using the `while` loop is to keep asking the user for an input until a condition is met. The example below asks the user to guess a color and keeps doing so until they guess \"red\":"
   ]
  },
  {
   "cell_type": "code",
   "execution_count": null,
   "metadata": {},
   "outputs": [],
   "source": [
    "color = None\n",
    "while color != \"red\":\n",
    "    color = input(\"Guess a color: \")\n",
    "    print(f\"You guessed {color}. Checking...\")\n",
    "\n",
    "print(\"You got it\")"
   ]
  },
  {
   "cell_type": "markdown",
   "metadata": {},
   "source": [
    "When using 'while' loops, remember that if the condition is never met, the loop will run forever! You can interrupt the code execution by clicking the 'Interrupt' button at the top of a notebook, or by typing `Ctrl + C` in the terminal."
   ]
  },
  {
   "cell_type": "code",
   "execution_count": null,
   "metadata": {},
   "outputs": [],
   "source": [
    "# This loop will run forever!\n",
    "\n",
    "while True:\n",
    "    print(\"foo\")"
   ]
  }
 ],
 "metadata": {
  "kernelspec": {
   "display_name": "Python 3.8.10 64-bit",
   "language": "python",
   "name": "python3"
  },
  "language_info": {
   "name": "python",
   "version": "3.8.10"
  },
  "orig_nbformat": 4,
  "vscode": {
   "interpreter": {
    "hash": "916dbcbb3f70747c44a77c7bcd40155683ae19c65e1c03b4aa3499c5328201f1"
   }
  }
 },
 "nbformat": 4,
 "nbformat_minor": 2
}
