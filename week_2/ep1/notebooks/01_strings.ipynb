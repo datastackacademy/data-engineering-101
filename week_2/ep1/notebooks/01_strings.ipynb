{
  "cells": [
    {
      "cell_type": "markdown",
      "metadata": {
        "id": "j7CCG3f1tdYc"
      },
      "source": [
        "### String Type\n",
        "\n",
        "String or str holds text values. These values are enclosed in double quote (\") or  single quote ('). "
      ]
    },
    {
      "cell_type": "code",
      "execution_count": null,
      "metadata": {
        "id": "lLMazhaZtkrC"
      },
      "outputs": [],
      "source": [
        "first_name = \"data\"   # using double quote\n",
        "last_name = 'stack'   # using single quote\n",
        "\n",
        "# you can concatenate strings with the + operator\n",
        "full_name = first_name + \" \" + last_name\n",
        "\n",
        "print(f\"My full name is {full_name}\")"
      ]
    },
    {
      "cell_type": "markdown",
      "metadata": {
        "id": "Iv72MaZ4jsxN"
      },
      "source": [
        "**Exercise:**"
      ]
    },
    {
      "cell_type": "code",
      "execution_count": null,
      "metadata": {
        "id": "DgvSJgPB5nfn"
      },
      "outputs": [],
      "source": [
        "x = 3\n",
        "y = 2.5\n",
        "\n",
        "# Add the two variables x and y and note the type of the value returned"
      ]
    },
    {
      "cell_type": "code",
      "execution_count": null,
      "metadata": {
        "id": "AuURfmm65nfn"
      },
      "outputs": [],
      "source": [
        "x = \"string\"\n",
        "y = 5\n",
        "# What happens when you try to combine these two variables?"
      ]
    },
    {
      "cell_type": "markdown",
      "metadata": {},
      "source": [
        "#### `str` members"
      ]
    },
    {
      "cell_type": "code",
      "execution_count": null,
      "metadata": {},
      "outputs": [],
      "source": [
        "name = \"bob dylan\"\n",
        "\n",
        "# UPPER/LOWER CASE\n",
        "# ---------------------------------------\n",
        "cap_name = name.capitalize()        # the first word (john) is capitalized\n",
        "title_name = name.title()           # first letter of all words are capitalized\n",
        "upper_name = name.upper()           # the entire str is capitalized\n",
        "lower_name = upper_name.lower()     # back down to lower case\n",
        "print(f\"capitalize(): {cap_name}\")\n",
        "print(f\"title(): {cap_name}\")\n",
        "print(f\"upper(): {upper_name}\")\n",
        "print(f\"lower(): {lower_name}\")\n",
        "\n",
        "\n",
        "# REMOVING WHITESPACES\n",
        "# ---------------------------------------\n",
        "original = \"   Meanwhile, far away in another part of town   \\n\"\n",
        "print(f\"Original: '{original}'\")        # notice that this str has an endline or ENTER (\\n) charater at the end\n",
        "print(f\"new: '{original.strip()}'\")     # notice the enter is removed\n",
        "print(f\"left: '{original.lstrip()}'\")     # removing leading whitespaces, stands for left strip\n",
        "print(f\"right: '{original.rstrip()}'\")     # removing trailing whitespaces, stands for right strip\n"
      ]
    },
    {
      "cell_type": "markdown",
      "metadata": {},
      "source": [
        "#### Index\n",
        "\n",
        "The index is the position of a particular value in a collection. In Python, starting counts with 0. So, the first character in a string is index 0, the second character is index 1, etc. "
      ]
    },
    {
      "cell_type": "code",
      "execution_count": null,
      "metadata": {},
      "outputs": [],
      "source": [
        "# Exercise:\n",
        "# for the following string:\n",
        "\n",
        "zen_of_python_7 = \"readability counts\"\n",
        "\n",
        "# ...what is the index of the letter 'r'?\n",
        "# ...what is the index of the letter 'd'?"
      ]
    },
    {
      "cell_type": "markdown",
      "metadata": {},
      "source": [
        "Lucky for us, we don't have to count through a collection by hand, because Python has a built-in `.find()` method that looks for a substring within a string. The substring is passed to `.find()` as an argument such as: string.find(substring) `.find()` returns the starting position index of the substring with the string. \n",
        "\n",
        "In the example below, we use `.find()` to find the location of a substring, then the built-in `replace()` method to replace it."
      ]
    },
    {
      "cell_type": "code",
      "execution_count": null,
      "metadata": {},
      "outputs": [],
      "source": [
        "# FIND and REPLACE\n",
        "# ---------------------------------------\n",
        "lyrics = \"\"\"\n",
        "Here comes the story of the Hurricane\n",
        "The man the authorities came to blame\n",
        "For somethin' that he never done\n",
        "\"\"\"\n",
        "print(lyrics)\n",
        "\n",
        "hurricane_index = lyrics.find(\"Hurricane\")\n",
        "print(f\"Starting Index location of 'Hurricane in lyrics: {hurricane_index}\")\n",
        "\n",
        "# .replace(search, replace) replaces a substring with another substring\n",
        "# .replace takes two arguments: first is the search string, and the second is what you like to replace with\n",
        "robin_lyrics = lyrics.replace(\"Hurricane\", \"Robin\")     # replace Hurricane with Robin\n",
        "print(robin_lyrics)\n"
      ]
    },
    {
      "cell_type": "markdown",
      "metadata": {},
      "source": [
        "**Exercise**:"
      ]
    },
    {
      "cell_type": "code",
      "execution_count": null,
      "metadata": {},
      "outputs": [],
      "source": [
        "artist = \"bob dylan\"\n",
        "lyrics = \"\"\"\n",
        "Nobody feels any pain\n",
        "Tonight as I stand inside the rain\n",
        "Ev'rybody knows\n",
        "That Baby's got new clothes\n",
        "\"\"\"\n",
        "\n",
        "# capitalize the artist name and last name\n",
        "\n",
        "# upper case the artist name\n",
        "\n",
        "# replace the artist last name with another last name\n",
        "\n",
        "# find the location of \"pain\" in lyrics\n",
        "\n"
      ]
    }
  ],
  "metadata": {
    "colab": {
      "collapsed_sections": [
        "hJ8aeidQ0XhQ",
        "EEpaT-Kr86wM",
        "-3FyAIEg5nfo",
        "3-CBVzXF5nfx",
        "1zlqevdc5nf4"
      ],
      "name": "original-01-python.ipynb",
      "provenance": []
    },
    "kernelspec": {
      "display_name": "Python 3.8.10 64-bit",
      "language": "python",
      "name": "python3"
    },
    "language_info": {
      "codemirror_mode": {
        "name": "ipython",
        "version": 3
      },
      "file_extension": ".py",
      "mimetype": "text/x-python",
      "name": "python",
      "nbconvert_exporter": "python",
      "pygments_lexer": "ipython3",
      "version": "3.8.10"
    },
    "orig_nbformat": 2,
    "vscode": {
      "interpreter": {
        "hash": "916dbcbb3f70747c44a77c7bcd40155683ae19c65e1c03b4aa3499c5328201f1"
      }
    }
  },
  "nbformat": 4,
  "nbformat_minor": 0
}
