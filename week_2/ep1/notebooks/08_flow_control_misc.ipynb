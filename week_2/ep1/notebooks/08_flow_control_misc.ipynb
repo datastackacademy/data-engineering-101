{
 "cells": [
  {
   "cell_type": "markdown",
   "metadata": {},
   "source": [
    "# More on Flow Control\n",
    "\n",
    "We should note that conditionals are evaluated in the order written, and that the first condition that evaluates to `True` is the *only* one which is executed. Once the interpreter encounters a `True` condition, it skips the rest of the conditions, even if they are also `True`.\n",
    "\n",
    "The following example uses the `%` (modulus) operator, which returns the remainder of an integer division, to print the even numbers between 1 and 10:"
   ]
  },
  {
   "cell_type": "code",
   "execution_count": null,
   "metadata": {},
   "outputs": [],
   "source": [
    "for num in range(1,11):\n",
    "    if num % 2 == 0:\n",
    "        print(num)"
   ]
  },
  {
   "cell_type": "markdown",
   "metadata": {},
   "source": [
    "### Break and Continue\n",
    "\n",
    "We can also use conditionals to explore two new loop controls: `continue` and `break`. When a loop encounters a `continue`, the current step of the loop evaluation stops and the interpreter goes to the next item in the loop. We can use that behavior to print all the odd numbers from 1 to 10:"
   ]
  },
  {
   "cell_type": "code",
   "execution_count": null,
   "metadata": {},
   "outputs": [],
   "source": [
    "for num in range(1,11):\n",
    "    if num % 2 == 0:\n",
    "        continue\n",
    "    print(num)"
   ]
  },
  {
   "cell_type": "markdown",
   "metadata": {},
   "source": [
    "One benefit of using `continue` is that it helps us to avoid deeply nested conditionals in our loops. The other new loop control is `break`. which causes the interpreter to exit (break out of) the loop."
   ]
  },
  {
   "cell_type": "code",
   "execution_count": null,
   "metadata": {},
   "outputs": [],
   "source": [
    "for num in range(10):\n",
    "    if num > 5:\n",
    "        break\n",
    "    print(num)\n",
    "\n",
    "print(\"Out of the loop\")"
   ]
  },
  {
   "cell_type": "markdown",
   "metadata": {},
   "source": [
    "### If conditions inside for loops\n",
    "\n",
    "Now that we have conditional statements and loops, we can have some fun! How about we use the `%` operator to print all the even numbers from 1 to 10?\n",
    "\n",
    "> **Note:** The `range(start, end)` is a built-in function that returns a list of numbers between the `start` and `end` numbers, NOT including the `end` number. For example `range(1, 4)` returns `[1, 2, 3]`."
   ]
  },
  {
   "cell_type": "code",
   "execution_count": null,
   "metadata": {},
   "outputs": [],
   "source": [
    "# print even values between 1 and 10\n",
    "for num in range(1,11):\n",
    "    if num % 2 == 0:\n",
    "        print(num)\n",
    "\n",
    "# now print odd values between 1 and 10\n",
    "for num in range(1,11):\n",
    "    if num % 2 == 1:\n",
    "        print(num)"
   ]
  },
  {
   "cell_type": "markdown",
   "metadata": {},
   "source": [
    "### looping through dicts\n",
    "\n",
    "You can loop over dicts by using their keys:"
   ]
  },
  {
   "cell_type": "code",
   "execution_count": null,
   "metadata": {},
   "outputs": [],
   "source": [
    "my_first_dict = {\n",
    "    \"A\": 1,\n",
    "    \"B\": \"this is the value for B\",\n",
    "    \"C\": [1, 2, 4, 8]\n",
    "}\n",
    "\n",
    "# Loop over the keys:\n",
    "for key in my_first_dict:\n",
    "    print(f\"key is {key} and value is: {my_first_dict[key]}\")"
   ]
  },
  {
   "cell_type": "code",
   "execution_count": null,
   "metadata": {},
   "outputs": [],
   "source": [
    "# We can explicitly say to loop over the keys:\n",
    "\n",
    "for key in my_first_dict.keys():\n",
    "    print(key)\n",
    "\n",
    "# We can also loop over the values:\n",
    "for value in my_first_dict.values():\n",
    "    print(value)\n",
    "\n",
    "# or even both:\n",
    "for key, value in my_first_dict.items():\n",
    "    print(f\"key is {key} and value is {value}\")"
   ]
  },
  {
   "cell_type": "code",
   "execution_count": null,
   "metadata": {},
   "outputs": [],
   "source": [
    "# Exercise:\n",
    "\n",
    "my_dict = {\n",
    "    \"A\": 1,\n",
    "    \"B\": 2,\n",
    "    \"C\": 3,\n",
    "    \"D\": 4,\n",
    "    \"E\": 5,\n",
    "}\n",
    "\n",
    "# Loop over this dict, and print the keys and values for items with the value above 2"
   ]
  },
  {
   "cell_type": "code",
   "execution_count": null,
   "metadata": {},
   "outputs": [],
   "source": [
    "# Exercise:\n",
    "\n",
    "# given this dictionary:\n",
    "all_books = {\n",
    "    \"Chaos\": \"Gleick\", \n",
    "    \"Fluent Python\": \"Ramalho\", \n",
    "    \"Time Travel\": \"Gleick\", \n",
    "    \"The Information\": \"Gleick\",\n",
    "    \"Elegant SciPy\": \"Nunez-Iglesias\"\n",
    "}\n",
    "\n",
    "# ...use a 'for' loop to create a list that only includes titles by Gleick\n"
   ]
  }
 ],
 "metadata": {
  "kernelspec": {
   "display_name": "Python 3.7.13 ('ch1venv': venv)",
   "language": "python",
   "name": "python3"
  },
  "language_info": {
   "name": "python",
   "version": "3.7.13"
  },
  "orig_nbformat": 4,
  "vscode": {
   "interpreter": {
    "hash": "fa8c7aa075c19ce72a1c451928df8560ecf5abbe3bdddc8c62f61df80381fa28"
   }
  }
 },
 "nbformat": 4,
 "nbformat_minor": 2
}
