{
 "cells": [
  {
   "cell_type": "markdown",
   "metadata": {},
   "source": [
    "## `if` conditions\n",
    "\n",
    "Another powerful flow control tool is the conditional statement, also known as an `if ... else` statement. In Python, the syntax is straightforward - it begins with the declaration `if condition:` followed by a block of indented text to be executed if `condition` evaluates as `True`. For example:"
   ]
  },
  {
   "cell_type": "code",
   "execution_count": null,
   "metadata": {},
   "outputs": [],
   "source": [
    "if True:\n",
    "    print(\"True is always true\")\n",
    "\n",
    "# Anything that returns a True or False value can be our condition:\n",
    "if 2 > 0:\n",
    "    print(\"2 is bigger than 0\")\n",
    "\n",
    "# We can also use our variables in conditions:\n",
    "my_number = 3\n",
    "if my_number > 0:\n",
    "    print(f\"{my_number} is greater than 0\")"
   ]
  },
  {
   "cell_type": "code",
   "execution_count": null,
   "metadata": {},
   "outputs": [],
   "source": [
    "\n",
    "# Exercise:\n",
    "my_number = input(\"Please input a number: \")\n",
    "\n",
    "# Create a conditional that checks if my_number is bigger than 5\n",
    "# hint: since inputted values are saved as strings, make sure you convert it to an intereger before comparing it\n",
    "if\n",
    "    print(f\"{my_number} is greater than 5\")"
   ]
  },
  {
   "cell_type": "code",
   "execution_count": null,
   "metadata": {},
   "outputs": [],
   "source": [
    "\n",
    "# We can combine the `if` with an `else:`, which is what will be executed if `condition` is `False`: \n",
    "if False:\n",
    "    print(\"This will never print\")\n",
    "else:\n",
    "    print(\"But this will always print\")\n",
    "\n",
    "if 2 < 0:\n",
    "    print(\"2 is less than 0\")\n",
    "else:\n",
    "    print(\"2 is still > 0\")\n",
    "\n",
    "my_number = 5\n",
    "if my_number < 0:\n",
    "    print(f\"{my_number} is less than 0\")\n",
    "else:\n",
    "    print(f\"{my_number} is greater than 0\")\n"
   ]
  },
  {
   "cell_type": "code",
   "execution_count": null,
   "metadata": {},
   "outputs": [],
   "source": [
    "\n",
    "# A third version of the `if... else` statement uses `elif` to handle multiple conditionals in the same statement:\n",
    "# Ask the user for a number. We nest the int() function to make sure the user \n",
    "# input is converted to an integer\n",
    "my_number = int(input(\"Please input a number: \"))\n",
    "\n",
    "if my_number > 3:\n",
    "    print(f\"{my_number} is > 3\")\n",
    "elif my_number == 0:\n",
    "    print(f\"{my_number} equals 0\")\n",
    "elif my_number ==  3:\n",
    "    print(f\"{my_number} is in fact 3\")\n",
    "elif my_number < 5:\n",
    "    print(f\"{my_number} is < 5\")\n",
    "else:\n",
    "    print(f\"What was my number? {my_number}\")\n"
   ]
  },
  {
   "cell_type": "code",
   "execution_count": null,
   "metadata": {},
   "outputs": [],
   "source": [
    "\n",
    "# exercise:\n",
    "# change the value of my_number and run the code again\n"
   ]
  },
  {
   "cell_type": "markdown",
   "metadata": {},
   "source": [
    "\n",
    "We can also create compound conditions using `and` and `or`.\n",
    "\n",
    " > Note the `%` operator is the [modulo operator](https://docs.python.org/3.3/reference/expressions.html#binary-arithmetic-operations) that returns the remainder when the first number is divided by the second, e.g. 5 % 2 = 1\n"
   ]
  },
  {
   "cell_type": "code",
   "execution_count": null,
   "metadata": {},
   "outputs": [],
   "source": [
    "\n",
    "test_number = 5\n",
    "if test_number > 0 and test_number % 2 == 0:\n",
    "    print(f\"{test_number} is a positive even number\")\n",
    "elif test_number > 0:\n",
    "    print(f\"{test_number} is a positive odd number\")\n",
    "else:\n",
    "    print(f\"{test_number} is not greater than 0\")"
   ]
  },
  {
   "cell_type": "code",
   "execution_count": null,
   "metadata": {},
   "outputs": [],
   "source": [
    "# Exercise:\n",
    "# given this list:\n",
    "num_list = [3, 13, 77, 16]\n",
    "# ...write an if/else block that checks whether a user-inputted number is in the list"
   ]
  },
  {
   "cell_type": "code",
   "execution_count": null,
   "metadata": {},
   "outputs": [],
   "source": [
    "# Exercise:\n",
    "# given this dictionary:\n",
    "teas = {\"green\": \"sencha\", \"black\": \"assam\",  \"white\": \"peony\"}\n",
    "# ...write an if/else block that checks whether a user-inputted string is among the keys\n",
    "# ...write an if/else block that checks whether a user-inputted string is the value of \"green\""
   ]
  }
 ],
 "metadata": {
  "kernelspec": {
   "display_name": "Python 3.7.13 ('ch1venv': venv)",
   "language": "python",
   "name": "python3"
  },
  "language_info": {
   "name": "python",
   "version": "3.7.13"
  },
  "orig_nbformat": 4,
  "vscode": {
   "interpreter": {
    "hash": "fa8c7aa075c19ce72a1c451928df8560ecf5abbe3bdddc8c62f61df80381fa28"
   }
  }
 },
 "nbformat": 4,
 "nbformat_minor": 2
}
