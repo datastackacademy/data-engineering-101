{
 "cells": [
  {
   "attachments": {},
   "cell_type": "markdown",
   "metadata": {},
   "source": [
    "## Dictionaries\n",
    "\n",
    "Dictionaries are mutable (changeable) but, unlike lists, they don't allow duplicates. As of Python 3.7, dictionaries are now ordered. Whereas lists contain only the items themselves, dictionaries contain key-value pairs, where each value is associated with a label or key. The keys for a dictionary must be both unique (so there is no ambiguity when trying to access items) and immutable (for example int, float, or str). Dictionaries are very useful since we can store values and subsequently retrieve them by their keys, and each key-value pair can have a different data type.\n"
   ]
  },
  {
   "cell_type": "code",
   "execution_count": null,
   "metadata": {},
   "outputs": [],
   "source": [
    "# dicts are defined by curly brackets and key: value syntax\n",
    "simple_dict = {\"key1\": 1, \"key2\": 2}\n",
    "\n",
    "# you can declare the same dict in multiple lines for easier readability\n",
    "simple_dict = {\n",
    "    \"key1\": 1,\n",
    "    \"key2\": 2\n",
    "}\n",
    "\n",
    "print(simple_dict)\n",
    "\n",
    "# Let's make a dictionary with the following key value pairs: `A: 1`, `B: \"this is the value for B\"`, and `C: [1, 2, 4, 8]`:\n",
    "my_first_dict = {\n",
    "    \"A\": 1,\n",
    "    \"B\": \"this is the value for B\",\n",
    "    \"C\": [1, 2, 4, 8],\n",
    "}\n",
    "print(my_first_dict)"
   ]
  },
  {
   "attachments": {},
   "cell_type": "markdown",
   "metadata": {},
   "source": [
    "#### Exercise:"
   ]
  },
  {
   "cell_type": "code",
   "execution_count": null,
   "metadata": {},
   "outputs": [],
   "source": [
    "# Make a dict that stores the key value pairs 'a': True, 'b': False:\n",
    "my_second_dict = {\n",
    "    \n",
    "}"
   ]
  },
  {
   "attachments": {},
   "cell_type": "markdown",
   "metadata": {},
   "source": [
    "Accessing an item in a dictionary is similar to doing the same thing with a list: we use brackets `[ ]` with the dictionary name, and inside the brackets we put a key:"
   ]
  },
  {
   "cell_type": "code",
   "execution_count": null,
   "metadata": {},
   "outputs": [],
   "source": [
    "print(my_first_dict['A'])\n",
    "print(my_first_dict['C'])\n",
    "\n",
    "# print the whole dict\n",
    "print(my_first_dict)"
   ]
  },
  {
   "attachments": {},
   "cell_type": "markdown",
   "metadata": {},
   "source": [
    "#### Exercise:"
   ]
  },
  {
   "cell_type": "code",
   "execution_count": null,
   "metadata": {},
   "outputs": [],
   "source": [
    "# Print the value for \"B\" in my_first_dict\n",
    "print(my_first_dict[])\n",
    "\n",
    "# Print the value for 'b' in my_second_dict\n",
    "print(my_second_dict[])"
   ]
  },
  {
   "attachments": {},
   "cell_type": "markdown",
   "metadata": {},
   "source": [
    "#### Exercise:"
   ]
  },
  {
   "cell_type": "code",
   "execution_count": null,
   "metadata": {},
   "outputs": [],
   "source": [
    "# Given this dictionary:\n",
    "capitals = {\"Burkina_Faso\": \"Ouagadougou\", \"Kazakhstan\": \"Nur-Sultan\", \"Japan\": \"Tokyo\", \"Peru\": \"Lima\"}\n",
    "\n",
    "# ...get the capital of Burkina Faso\n",
    "# ...get the capitol of Japan"
   ]
  },
  {
   "attachments": {},
   "cell_type": "markdown",
   "metadata": {},
   "source": [
    "If we want to add an item to a `dict`, the most straightforward way is the following syntax:"
   ]
  },
  {
   "cell_type": "code",
   "execution_count": null,
   "metadata": {},
   "outputs": [],
   "source": [
    "my_first_dict[\"new_key\"] = 3.3\n",
    "my_first_dict"
   ]
  },
  {
   "attachments": {},
   "cell_type": "markdown",
   "metadata": {},
   "source": [
    "#### Exercise:"
   ]
  },
  {
   "cell_type": "code",
   "execution_count": null,
   "metadata": {},
   "outputs": [],
   "source": [
    "# Add the value \"Meow\" to my_second_dict with key 'c' and print it:\n",
    "my_second_dict[] =\n",
    "print(my_second_dict)\n",
    "\n",
    "# Add the key value pair 'd': 1, and 'e': True to my_second_dict\n"
   ]
  },
  {
   "cell_type": "markdown",
   "metadata": {},
   "source": [
    "\n",
    "To return and remove a key, we can once again use the `pop()` method with the key as the first argument of `pop()` (instead of a numeric index, as with a list). \n",
    "This time we also have an optional argument for what value to return if a key is not present in the `dict`. \n",
    "This allows us to avoid an error if we try to `pop()` a key that isn't in the `dict`."
   ]
  },
  {
   "cell_type": "code",
   "execution_count": null,
   "metadata": {},
   "outputs": [],
   "source": [
    "\n",
    "# Here's an example of removing an item to a dict using pop():\n",
    "print(my_first_dict.pop('new_key'))\n",
    "print(my_first_dict)\n",
    "\n",
    "\n",
    "# When calling pop(), we can specify default behavior for when the key is not present (the second argument, `None`)\n",
    "print(my_first_dict.pop('not_a_key', None))\n",
    "print(my_first_dict)"
   ]
  },
  {
   "attachments": {},
   "cell_type": "markdown",
   "metadata": {},
   "source": [
    "If you'd like to know how many items are in a `dict`, you can use the `len()` (short for length) method:"
   ]
  },
  {
   "cell_type": "code",
   "execution_count": null,
   "metadata": {},
   "outputs": [],
   "source": [
    "len(my_first_dict)"
   ]
  },
  {
   "attachments": {},
   "cell_type": "markdown",
   "metadata": {},
   "source": [
    "#### Exercise:"
   ]
  },
  {
   "cell_type": "code",
   "execution_count": null,
   "metadata": {},
   "outputs": [],
   "source": [
    "# how long is my_second_dict?"
   ]
  },
  {
   "attachments": {},
   "cell_type": "markdown",
   "metadata": {},
   "source": [
    "To get a list of keys in the dictionary, use keys():"
   ]
  },
  {
   "cell_type": "code",
   "execution_count": null,
   "metadata": {},
   "outputs": [],
   "source": [
    "my_first_dict.keys()"
   ]
  },
  {
   "attachments": {},
   "cell_type": "markdown",
   "metadata": {},
   "source": [
    "And to get a list of values, use values():"
   ]
  },
  {
   "cell_type": "code",
   "execution_count": null,
   "metadata": {},
   "outputs": [],
   "source": [
    "my_first_dict.values()"
   ]
  },
  {
   "attachments": {},
   "cell_type": "markdown",
   "metadata": {},
   "source": [
    "#### Exercise:"
   ]
  },
  {
   "cell_type": "code",
   "execution_count": null,
   "metadata": {},
   "outputs": [],
   "source": [
    "# get all the keys in the capitals dict\n",
    "\n",
    "# get all the values in my_second_dict"
   ]
  },
  {
   "attachments": {},
   "cell_type": "markdown",
   "metadata": {},
   "source": [
    "Using `in` will let us see whether a key is present in the dictionary:"
   ]
  },
  {
   "cell_type": "code",
   "execution_count": null,
   "metadata": {},
   "outputs": [],
   "source": [
    "\"A\" in my_first_dict"
   ]
  },
  {
   "attachments": {},
   "cell_type": "markdown",
   "metadata": {},
   "source": [
    "And to see if a value is present in a dictionary, we can use `dict.values()`:"
   ]
  },
  {
   "cell_type": "code",
   "execution_count": null,
   "metadata": {},
   "outputs": [],
   "source": [
    "print(1 in my_first_dict)\n",
    "print(1 in my_first_dict.values())"
   ]
  },
  {
   "attachments": {},
   "cell_type": "markdown",
   "metadata": {},
   "source": [
    "#### Exercise:"
   ]
  },
  {
   "cell_type": "code",
   "execution_count": null,
   "metadata": {},
   "outputs": [],
   "source": [
    "# check whether 'Kazakhstan' is a key in 'capitals'\n",
    "\n",
    "# check whether 'Kazakhstan' is a value in 'capitals'\n"
   ]
  }
 ],
 "metadata": {
  "kernelspec": {
   "display_name": "Python 3.8.10 64-bit",
   "language": "python",
   "name": "python3"
  },
  "language_info": {
   "codemirror_mode": {
    "name": "ipython",
    "version": 3
   },
   "file_extension": ".py",
   "mimetype": "text/x-python",
   "name": "python",
   "nbconvert_exporter": "python",
   "pygments_lexer": "ipython3",
   "version": "3.7.16"
  },
  "orig_nbformat": 4,
  "vscode": {
   "interpreter": {
    "hash": "916dbcbb3f70747c44a77c7bcd40155683ae19c65e1c03b4aa3499c5328201f1"
   }
  }
 },
 "nbformat": 4,
 "nbformat_minor": 2
}
