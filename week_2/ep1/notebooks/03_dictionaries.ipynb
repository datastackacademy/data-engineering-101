{
 "cells": [
  {
   "cell_type": "markdown",
   "metadata": {},
   "source": [
    "## Dictionaries\n",
    "\n",
    "The second collection data type we will take a look at is the `Dictionary` type. Dictionaries are mutable (changeable) but (unlike lists) they do *not* allow duplicates. As of Python 3.7, dictionaries are now ordered. Whereas lists contain only the items themselves, dictionaries contain key-value pairs, where each value is associated with a label or key. The keys for a dictionary must be both unique (so there is no ambiguity when trying to access items) and immutable (for example int, float, or str). Dictionaries are very useful since we can store values and subsequently retrieve them by their keys. It's even more powerful since each key-value pair can have a different data type.\n"
   ]
  },
  {
   "cell_type": "code",
   "execution_count": null,
   "metadata": {},
   "outputs": [],
   "source": [
    "# dicts are defined by curly bracket and key: value syntax\n",
    "simple_dict = {\"key1\": 1, \"key2\": 2}\n",
    "\n",
    "# you can declare the same dict in multiple lines for easier readability\n",
    "simple_dict = {\n",
    "    \"key1\": 1,\n",
    "    \"key2\": 2\n",
    "}\n",
    "\n",
    "print(simple_dict)\n",
    "\n",
    "# Let's make a dictionary that the following key value pairs: `A: 1`, `B: \"this is the value for B\"`, and `C: [1, 2, 4, 8]`:\n",
    "my_first_dict = {\n",
    "    \"A\": 1,\n",
    "    \"B\": \"this is the value for B\",\n",
    "    \"C\": [1, 2, 4, 8],\n",
    "}\n",
    "print(my_first_dict)"
   ]
  },
  {
   "cell_type": "code",
   "execution_count": null,
   "metadata": {},
   "outputs": [],
   "source": [
    "# Make a dict that stores the key value pairs 'a': True, 'b': False:\n",
    "my_second_dict = {\n",
    "    \n",
    "}"
   ]
  },
  {
   "cell_type": "code",
   "execution_count": null,
   "metadata": {},
   "outputs": [],
   "source": [
    "\n",
    "\n",
    "# Accessing an item in a dictionary is similar to doing the same thing with a list: we use brackets `[ ]` with the dictionary name, and inside the brackets we put a key:\n",
    "print(my_first_dict['A'])\n",
    "print(my_first_dict['C'])\n",
    "\n",
    "# print the whole dict\n",
    "print(my_first_dict)\n",
    "\n",
    "# Print the value for \"B\" in my_first_dict?\n",
    "print(my_first_dict[])\n",
    "\n",
    "# Print the value for 'b' in my_second_dict?\n",
    "print(my_second_dict[])\n"
   ]
  },
  {
   "cell_type": "code",
   "execution_count": null,
   "metadata": {},
   "outputs": [],
   "source": [
    "# Exercise:\n",
    "# Given this dictionary:\n",
    "capitals = {\"Burkina_Faso\": \"Ouagadougou\", \"Kazakhstan\": \"Nur-Sultan\", \"Japan\": \"Tokyo\", \"Peru\": \"Lima\"}\n",
    "\n",
    "# ...get the capital of Burkina Faso\n",
    "# ...get the capitol of Japan"
   ]
  },
  {
   "cell_type": "code",
   "execution_count": null,
   "metadata": {},
   "outputs": [],
   "source": [
    "\n",
    "# If we want to add an item to a `dict`, the most straightforward way is the following syntax:\n",
    "my_first_dict[\"new_key\"] = 3.3\n",
    "my_first_dict\n",
    "\n",
    "# Add the value \"No\" to my_second_dict with key 'c' and print it:\n",
    "my_second_dict[] =\n",
    "print(my_second_dict)\n",
    "\n",
    "# Add the key value pair 'd': 1, and 'e': True to my_second_dict\n"
   ]
  },
  {
   "cell_type": "markdown",
   "metadata": {},
   "source": [
    "\n",
    "To return and remove a key, we can once again use the `pop()` method with the key as the first argument of `pop()` (instead of a numeric index, as with a list). \n",
    "This time we also have an optional argument for what value to return if a key is not present in the `dict`. \n",
    "This allows us to avoid an error if we try to `pop()` a key that isn't in the `dict`."
   ]
  },
  {
   "cell_type": "code",
   "execution_count": null,
   "metadata": {},
   "outputs": [],
   "source": [
    "\n",
    "# Here's an example of removing an item to a dict using pop():\n",
    "print(my_first_dict.pop('new_key'))\n",
    "print(my_first_dict)\n",
    "\n",
    "\n",
    "# When calling pop(), we can specify default behavior for when the key is not present (the second argument, `None`)\n",
    "print(my_first_dict.pop('not_a_key', None))\n",
    "print(my_first_dict)"
   ]
  },
  {
   "cell_type": "code",
   "execution_count": null,
   "metadata": {},
   "outputs": [],
   "source": [
    "\n",
    "# If you'd like to know how many items are in a `dict`, you can use the `len()` (short for length) method:\n",
    "len(my_first_dict)\n",
    "\n",
    "# how long is my_second_dict?"
   ]
  },
  {
   "cell_type": "code",
   "execution_count": null,
   "metadata": {},
   "outputs": [],
   "source": [
    "\n",
    "# To get a list of keys in the dictionary, use keys():\n",
    "my_first_dict.keys()\n",
    "\n",
    "\n",
    "# And to get a list of values, use values():\n",
    "my_first_dict.values()\n",
    "\n",
    "# get all the keys in the capitals dict\n",
    "\n",
    "# get all the values in my_second_dict"
   ]
  },
  {
   "cell_type": "code",
   "execution_count": null,
   "metadata": {},
   "outputs": [],
   "source": [
    "\n",
    "# Using `in` will let us see whether a key is present in the dictionary:\n",
    "\"A\" in my_first_dict\n",
    "\n",
    "# And to see if a value is present in a dictionary, we can use `dict.values()`:\n",
    "print(1 in my_first_dict)\n",
    "print(1 in my_first_dict.values())\n",
    "\n",
    "# check whether 'Kazakhstan' is a key in 'capitals'\n",
    "\n",
    "# check whether 'Kazakhstan' is a value in 'capitals'\n"
   ]
  }
 ],
 "metadata": {
  "kernelspec": {
   "display_name": "Python 3.8.10 64-bit",
   "language": "python",
   "name": "python3"
  },
  "language_info": {
   "name": "python",
   "version": "3.8.10"
  },
  "orig_nbformat": 4,
  "vscode": {
   "interpreter": {
    "hash": "916dbcbb3f70747c44a77c7bcd40155683ae19c65e1c03b4aa3499c5328201f1"
   }
  }
 },
 "nbformat": 4,
 "nbformat_minor": 2
}
