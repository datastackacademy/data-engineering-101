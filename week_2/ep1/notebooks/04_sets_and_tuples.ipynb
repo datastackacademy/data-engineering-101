{
 "cells": [
  {
   "cell_type": "markdown",
   "metadata": {},
   "source": [
    "### Tuples\n",
    "\n",
    "Let's start with tuples. They are used to store multiple values in a single object. Tuples are ordered, and therefore can be accessed by index like a list. However, they are unchangeable which means they cannot be modified after creation. Let's create a tuple using `( )` and store the first three letters of the alphabet:"
   ]
  },
  {
   "cell_type": "code",
   "execution_count": null,
   "metadata": {},
   "outputs": [],
   "source": [
    "my_first_tuple = (\"A\", \"B\", \"C\")\n",
    "print(my_first_tuple)\n",
    "print(my_first_tuple[0])\n",
    "print(my_first_tuple[2])"
   ]
  },
  {
   "cell_type": "code",
   "execution_count": null,
   "metadata": {},
   "outputs": [],
   "source": [
    "# Tuples allow duplicates, and they can contain any item (including another tuple):\n",
    "my_second_tuple = (1, 1, my_first_tuple)\n",
    "my_second_tuple\n"
   ]
  },
  {
   "cell_type": "code",
   "execution_count": null,
   "metadata": {},
   "outputs": [],
   "source": [
    "# If we would like to create a tuple with a single value, we either have to leave a trailing comma or use the `tuple()` constructor on another collection:\n",
    "test_tuple = (1)\n",
    "print(type(test_tuple))\n",
    "test_tuple = (1,)\n",
    "print(type(test_tuple))\n",
    "test_tuple = tuple([1])\n",
    "print(type(test_tuple))\n"
   ]
  },
  {
   "cell_type": "code",
   "execution_count": null,
   "metadata": {},
   "outputs": [],
   "source": [
    "# As with other collections, we can check how many items are in our tuple with the `len()` function:\n",
    "print(len(my_first_tuple))\n",
    "print(len(test_tuple))"
   ]
  },
  {
   "cell_type": "code",
   "execution_count": null,
   "metadata": {},
   "outputs": [],
   "source": [
    "# We can check if items are in a tuple with an `in` membership operator just like a list:\n",
    "\"A\" in my_first_tuple\n"
   ]
  },
  {
   "cell_type": "markdown",
   "metadata": {},
   "source": [
    "\n",
    "We will conclude by pointing out that tuples are often used to return values from functions when multiple return values are needed. You will see this later."
   ]
  },
  {
   "cell_type": "code",
   "execution_count": null,
   "metadata": {},
   "outputs": [],
   "source": [
    "\n",
    "# Exercise:\n",
    "\n",
    "# create a tuple with the first 3 months of the year\n",
    "months_tuple = \n",
    "\n",
    "# print the first and second month\n",
    "print(\"first month: \", )\n",
    "print(\"first month: \", )\n",
    "\n",
    "# check to see if January or August exist in our tuple"
   ]
  },
  {
   "cell_type": "markdown",
   "metadata": {},
   "source": [
    "### Sets\n",
    "\n",
    "Sets are collections of unique objects, meaning that duplicates are not allowed. They are unordered and unindexed. If duplicate items are included when the set is created, only one copy of the duplicate value will go into the list. We create a set with braces (`{ }`), but without the colon used in dictionaries to separate keys and values:"
   ]
  },
  {
   "cell_type": "code",
   "execution_count": null,
   "metadata": {},
   "outputs": [],
   "source": [
    "\n",
    "my_first_set = {1, 2, 2, \"A\", \"a\"}\n",
    "print(my_first_set)\n",
    "print(type(my_first_set))\n"
   ]
  },
  {
   "cell_type": "code",
   "execution_count": null,
   "metadata": {},
   "outputs": [],
   "source": [
    "\n",
    "# As with other collection types, we can use `in` to check for set membership, and get the number of items with `len()`:\n",
    "print(1 in my_first_set)\n",
    "print(len(my_first_set))\n"
   ]
  },
  {
   "cell_type": "markdown",
   "metadata": {},
   "source": [
    "\n",
    "While the items in a set are unchangeable, sets do have an `add()` method for including new items. \n",
    "If the item is a duplicate of an existing item, nothing is added. \n",
    "It is also worth noting that the `add()` method has no return value; the set is updated in-place. \n",
    "This means there will be no feedback if an existing value is not added - the set will remain unchanged.\n",
    "You need to use the `in` operator as above if you need a return value about `set` membership."
   ]
  },
  {
   "cell_type": "code",
   "execution_count": null,
   "metadata": {},
   "outputs": [],
   "source": [
    "\n",
    "print(my_first_set)\n",
    "my_first_set.add(\"fancy new string\")\n",
    "print(my_first_set)\n",
    "my_first_set.add(\"A\")\n",
    "print(my_first_set)"
   ]
  },
  {
   "cell_type": "code",
   "execution_count": null,
   "metadata": {},
   "outputs": [],
   "source": [
    "\n",
    "# Exercise:\n",
    "# create a set with the first 3 months of the year\n",
    "months_set = \n",
    "\n",
    "# print the first and second month\n",
    "# hint: since sets are unordered and unindexed, try converting it to a different data type\n",
    "print(\"first month: \", )\n",
    "print(\"first month: \", )\n",
    "\n",
    "# check to see if January or August exist in our set\n",
    "\n",
    "# try adding January again and see what happens\n"
   ]
  },
  {
   "cell_type": "markdown",
   "metadata": {},
   "source": [
    "## Converting between collection\n",
    "\n",
    "You can easily convert between `list`, `tuple`, and `set` types:"
   ]
  },
  {
   "cell_type": "code",
   "execution_count": null,
   "metadata": {},
   "outputs": [],
   "source": [
    "pacific_states_list = ['CA', 'OR', 'WA', 'HI']\n",
    "\n",
    "# convert to tuple\n",
    "pacific_states_tuple = tuple(pacific_states_list)\n",
    "print(pacific_states_tuple, type(pacific_states_tuple))\n",
    "\n",
    "# convert to set\n",
    "pacific_states_set = set(pacific_states_list)\n",
    "print(pacific_states_set, type(pacific_states_set))\n",
    "\n",
    "# you can always go the other way:\n",
    "list_again = list(pacific_states_tuple)\n",
    "list_again = list(pacific_states_set)\n"
   ]
  },
  {
   "cell_type": "code",
   "execution_count": null,
   "metadata": {},
   "outputs": [],
   "source": [
    "\n",
    "# Super Exercise:\n",
    "\n",
    "# Remember what you know about each collection properties. You can always convert back and forth.\n",
    "primes = [1, 2, 3, 5, 7, 3, 2]\n",
    "\n",
    "# make a unique list of primes so that 2 and 3 are not repeated\n",
    "unique_primes = \n"
   ]
  }
 ],
 "metadata": {
  "kernelspec": {
   "display_name": "Python 3.7.13 ('ch1venv': venv)",
   "language": "python",
   "name": "python3"
  },
  "language_info": {
   "codemirror_mode": {
    "name": "ipython",
    "version": 3
   },
   "file_extension": ".py",
   "mimetype": "text/x-python",
   "name": "python",
   "nbconvert_exporter": "python",
   "pygments_lexer": "ipython3",
   "version": "3.7.13"
  },
  "orig_nbformat": 4,
  "vscode": {
   "interpreter": {
    "hash": "fa8c7aa075c19ce72a1c451928df8560ecf5abbe3bdddc8c62f61df80381fa28"
   }
  }
 },
 "nbformat": 4,
 "nbformat_minor": 2
}
