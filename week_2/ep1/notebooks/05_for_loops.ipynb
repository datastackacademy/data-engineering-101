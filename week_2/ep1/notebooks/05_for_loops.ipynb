{
 "cells": [
  {
   "cell_type": "markdown",
   "metadata": {},
   "source": [
    "## `for` loop\n",
    "\n",
    "Using loops to iterate through a sequence of steps is one of the most important skills in Python. As a data engineer, you will constantly find yourself needing to iterate through some data in order to perform some calculation. The basic loop construction is simple - first we need something to iterate over. We'll make a list of the first ten integers and call it `loop_list`. Then we can use a `for` loop with `in`:"
   ]
  },
  {
   "cell_type": "code",
   "execution_count": null,
   "metadata": {},
   "outputs": [],
   "source": [
    "loop_list = [1, 2, 3, 4, 5, 6, 7, 8, 9]\n",
    "for item in loop_list:\n",
    "    print(item)\n",
    "\n",
    "print(\"We are out of the loop\")"
   ]
  },
  {
   "cell_type": "markdown",
   "metadata": {},
   "source": [
    "In this example, *item* is the variable name we are using for each value in our list. After our declaration line telling us what we are looping over, the block of indented code is executed once for every *item* in the object we're looping over (in this case, a list). Pretty straightforward, right? Python loves to loop and many objects are naturally iterable. For example, we can loop over every character in the string *\"this is a string\"*:"
   ]
  },
  {
   "cell_type": "code",
   "execution_count": null,
   "metadata": {},
   "outputs": [],
   "source": [
    "for char in \"this is a string\":\n",
    "    print(char)"
   ]
  },
  {
   "cell_type": "code",
   "execution_count": null,
   "metadata": {},
   "outputs": [],
   "source": [
    "# Exercise:\n",
    "\n",
    "# With this list:\n",
    "new_list = [5, 10, 15, 20, 25]\n",
    "\n",
    "# Print the difference between 30 and the list item (30 - item) for each item of our list:\n",
    "for item \n",
    "    print()"
   ]
  },
  {
   "cell_type": "markdown",
   "metadata": {},
   "source": [
    "We can also nest loops. Here's an example showing how to loop over each character in a list of strings, using nested `for` loops:"
   ]
  },
  {
   "cell_type": "code",
   "execution_count": null,
   "metadata": {},
   "outputs": [],
   "source": [
    "stringy_list = [\"this\", \"is\", \"a\", \"str\", \"list\"]\n",
    "for item in stringy_list:\n",
    "    for char in item:\n",
    "        print(f\"the character '{char}' from the word '{item}'\")"
   ]
  },
  {
   "cell_type": "markdown",
   "metadata": {},
   "source": [
    "A built-in function used commonly with `for` loop is `range(start, end)`. This function returns a list of integers between the start and end parameters (NOT including the end). If you do not specify the `start` element, then the list is generated from zero:"
   ]
  },
  {
   "cell_type": "code",
   "execution_count": null,
   "metadata": {},
   "outputs": [],
   "source": [
    "# a list of numbers from 2-9\n",
    "print(list(range(2, 10)))\n",
    "\n",
    "# omitting the start, list of number from 0-9\n",
    "print(list(range(10)))"
   ]
  },
  {
   "cell_type": "markdown",
   "metadata": {},
   "source": [
    "Notice that if we want to see the values that `range()` generates, we have to make them into a list. Otherwise, we just get a `range` object:"
   ]
  },
  {
   "cell_type": "code",
   "execution_count": null,
   "metadata": {},
   "outputs": [],
   "source": [
    "print(range(2, 10))"
   ]
  },
  {
   "cell_type": "markdown",
   "metadata": {},
   "source": [
    "The `range()` function is used for accessing array elements in loops by their index. Note in the code below that the end value in the range is the length of the string that `letters` is assigned to. This is an example of how we can make our code flexible enough to allow for different inputs; if you make the `letters` string longer or shorter, the code will still work."
   ]
  },
  {
   "cell_type": "code",
   "execution_count": 3,
   "metadata": {},
   "outputs": [
    {
     "name": "stdout",
     "output_type": "stream",
     "text": [
      "index 0 is the letter a\n",
      "index 1 is the letter b\n",
      "index 2 is the letter c\n",
      "index 3 is the letter d\n",
      "index 4 is the letter e\n",
      "index 5 is the letter f\n",
      "index 6 is the letter g\n",
      "index 7 is the letter h\n"
     ]
    }
   ],
   "source": [
    "letters = \"abcdefgh\"  # remember a str is a list of characters\n",
    "for index in range(len(letters)):\n",
    "    # remember using f-string to print text and variables\n",
    "    print(f\"index {index} is the letter {letters[index]}\")"
   ]
  },
  {
   "cell_type": "markdown",
   "metadata": {},
   "source": [
    "Pause a moment to see how this works:\n",
    "1. `len()` returns the length of the string `letters` is assigned to. In this example, it's 8.\n",
    "2. That value (8) is used as the end value for `range()`, making it `range(8)`. Remember that `range()` starts at 0 unless you specify otherwise, and ends right before the end value, so this would give us the numbers 0-7.\n",
    "3. The `for` loop goes through that range of values, and for each of them, does whatever's inside the `for` loop.\n",
    "    - `index` is a variable whose value changes with each run through the loop. We take whatever value it's at, and use it in an f-string\n",
    "    - `letters[index]` gets the value of the string at the index of current value of the `index` variable\n",
    "\n",
    "It can be helpful to walk through `for` loops with a pencil and paper. The debugger, introduced later in this chapter, is also a great tool for seeing how values change with each run through a loop."
   ]
  },
  {
   "cell_type": "code",
   "execution_count": null,
   "metadata": {},
   "outputs": [],
   "source": [
    "# let's now start from the third letter\n",
    "for index in range(2, len(letters)):\n",
    "    print(f\"index {index} is the letter {letters[index]}\")"
   ]
  }
 ],
 "metadata": {
  "kernelspec": {
   "display_name": "Python 3.7.13 ('ch1venv': venv)",
   "language": "python",
   "name": "python3"
  },
  "language_info": {
   "codemirror_mode": {
    "name": "ipython",
    "version": 3
   },
   "file_extension": ".py",
   "mimetype": "text/x-python",
   "name": "python",
   "nbconvert_exporter": "python",
   "pygments_lexer": "ipython3",
   "version": "3.7.13"
  },
  "orig_nbformat": 4,
  "vscode": {
   "interpreter": {
    "hash": "fa8c7aa075c19ce72a1c451928df8560ecf5abbe3bdddc8c62f61df80381fa28"
   }
  }
 },
 "nbformat": 4,
 "nbformat_minor": 2
}
